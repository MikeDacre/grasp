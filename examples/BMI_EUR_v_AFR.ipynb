{
 "cells": [
  {
   "cell_type": "code",
   "execution_count": 2,
   "metadata": {
    "collapsed": false
   },
   "outputs": [
    {
     "name": "stdout",
     "output_type": "stream",
     "text": [
      "Populating the interactive namespace from numpy and matplotlib\n"
     ]
    }
   ],
   "source": [
    "import numpy as np\n",
    "import plotly.plotly as py\n",
    "import plotly.graph_objs as go\n",
    "from matplotlib import pyplot as plt\n",
    "\n",
    "%pylab inline\n",
    "\n",
    "from grasp import *"
   ]
  },
  {
   "cell_type": "markdown",
   "metadata": {
    "collapsed": true
   },
   "source": [
    "# Get Phenotype List"
   ]
  },
  {
   "cell_type": "code",
   "execution_count": 3,
   "metadata": {
    "collapsed": false,
    "scrolled": false
   },
   "outputs": [
    {
     "data": {
      "text/plain": [
       "['Asthma',\n",
       " 'Fasting glucose',\n",
       " 'Breast cancer',\n",
       " 'Uric acid levels, in serum',\n",
       " 'Type II Diabetes Mellitus',\n",
       " 'Systemic lupus erythematosus',\n",
       " 'Body mass index (BMI)',\n",
       " 'Prostate cancer',\n",
       " 'Platelet count (PLT) and platelet volume (MPV)',\n",
       " \"Alzheimer's disease\",\n",
       " 'Chronic kidney disease (CKD)',\n",
       " 'Blood cell traits, in red blood cells',\n",
       " 'Nephropathy (diabetic nephropathy)',\n",
       " 'ECG (Electrocardiogram measurements), QT interval',\n",
       " \"Alzheimer's disease, late onset\",\n",
       " 'Nicotine, smoking behavior',\n",
       " 'Sarcoidosis',\n",
       " 'LDL cholesterol',\n",
       " 'Alcohol dependence',\n",
       " 'ECG (Electrocardiogram measurements), PR interval',\n",
       " 'Urate (in serum), gout',\n",
       " 'Height',\n",
       " 'Age at menarche',\n",
       " 'Blood cell counts and traits, in red blood cells',\n",
       " 'Carboplatin cytotoxicity and gene expression, in blood cell lines',\n",
       " 'Blood pressure and/or hypertension',\n",
       " 'Gene expression in leukocytes',\n",
       " 'Bilirubin levels, in serum',\n",
       " 'HIV-1 viral load at set point',\n",
       " 'Blood pressure',\n",
       " 'Coronary heart disease (incident CHD)']"
      ]
     },
     "execution_count": 3,
     "metadata": {},
     "output_type": "execute_result"
    }
   ],
   "source": [
    "phenos = q.intersecting_phenos('primary', pop_flags=['eur','afr'],\n",
    "                               exclusive=True, list_only=True)\n",
    "phenos"
   ]
  },
  {
   "cell_type": "markdown",
   "metadata": {},
   "source": [
    "# Body mass index (BMI)"
   ]
  },
  {
   "cell_type": "code",
   "execution_count": 4,
   "metadata": {
    "collapsed": false
   },
   "outputs": [
    {
     "name": "stdout",
     "output_type": "stream",
     "text": [
      "# of studies: EUR: 9, AFR: 2\n"
     ]
    }
   ],
   "source": [
    "eur_bmi = get_studies(only_disc_pop='eur', primary_phenotype='Body mass index (BMI)', dictionary=True)\n",
    "afr_bmi = get_studies(only_disc_pop='afr', primary_phenotype='Body mass index (BMI)', dictionary=True)\n",
    "print(\"# of studies: EUR: {}, AFR: {}\".format(len(eur_bmi), len(afr_bmi)))"
   ]
  },
  {
   "cell_type": "code",
   "execution_count": 5,
   "metadata": {
    "collapsed": false
   },
   "outputs": [
    {
     "data": {
      "text/plain": [
       "{'A common genetic variant is associated with adult and childhood obesity.': 16614226,\n",
       " 'A novel locus for body mass index on 5p15.2: a meta-analysis of two genome-wide association studies.': 22446040,\n",
       " 'Association analyses of 249,796 individuals reveal 18 new loci associated with body mass index.': 20935630,\n",
       " 'Association of FTO variants with BMI and fat mass in the self-contained population of Sorbs in Germany.': 19584900,\n",
       " 'Common variants near MC4R are associated with fat mass, weight and risk of obesity.': 18454148,\n",
       " 'Gene-centric meta-analyses of 108 912 individuals confirm known body mass index loci and reveal three novel signals.': 23001569,\n",
       " 'Genome-Wide Population-Based Association Study of Extremely Overweight Young Adults - The GOYA Study.': 21935397,\n",
       " 'Genome-wide association scans identified CTNNBL1 as a novel gene for obesity.': 18325910,\n",
       " 'Six new loci associated with body mass index highlight a neuronal influence on body weight regulation.': 19079261}"
      ]
     },
     "execution_count": 5,
     "metadata": {},
     "output_type": "execute_result"
    }
   ],
   "source": [
    "eur_bmi"
   ]
  },
  {
   "cell_type": "markdown",
   "metadata": {},
   "source": [
    "Meta-analyses may include the same studies, so let's skip that one for now."
   ]
  },
  {
   "cell_type": "code",
   "execution_count": 6,
   "metadata": {
    "collapsed": false
   },
   "outputs": [
    {
     "data": {
      "text/plain": [
       "22446040"
      ]
     },
     "execution_count": 6,
     "metadata": {},
     "output_type": "execute_result"
    }
   ],
   "source": [
    "eur_bmi.pop('A novel locus for body mass index on 5p15.2: a meta-analysis of two genome-wide association studies.')"
   ]
  },
  {
   "cell_type": "code",
   "execution_count": 7,
   "metadata": {
    "collapsed": false
   },
   "outputs": [],
   "source": [
    "q.write_study_dict(eur_bmi, 'eur_bmi_studies.txt')"
   ]
  },
  {
   "cell_type": "code",
   "execution_count": 8,
   "metadata": {
    "collapsed": false
   },
   "outputs": [],
   "source": [
    "eur_bmi = q.lookup_studies(eur_bmi)"
   ]
  },
  {
   "cell_type": "code",
   "execution_count": 9,
   "metadata": {
    "collapsed": false
   },
   "outputs": [
    {
     "data": {
      "text/plain": [
       "{'A meta-analysis identifies new loci associated with body mass index in individuals of African ancestry.': 23583978,\n",
       " 'Genome-Wide Association of BMI in African Americans.': 21701570}"
      ]
     },
     "execution_count": 9,
     "metadata": {},
     "output_type": "execute_result"
    }
   ],
   "source": [
    "afr_bmi"
   ]
  },
  {
   "cell_type": "code",
   "execution_count": 10,
   "metadata": {
    "collapsed": true
   },
   "outputs": [],
   "source": [
    "q.write_study_dict(afr_bmi, 'afr_bmi_studies.txt')"
   ]
  },
  {
   "cell_type": "code",
   "execution_count": 11,
   "metadata": {
    "collapsed": true
   },
   "outputs": [],
   "source": [
    "afr_bmi = q.lookup_studies(afr_bmi)"
   ]
  },
  {
   "cell_type": "markdown",
   "metadata": {},
   "source": [
    "All of the studies look good, so now lets pull the SNPs from the database."
   ]
  },
  {
   "cell_type": "code",
   "execution_count": 12,
   "metadata": {
    "collapsed": false
   },
   "outputs": [
    {
     "name": "stdout",
     "output_type": "stream",
     "text": [
      "Total SNPs:          163336 377\n",
      "Collapsed dataframe: 155781 268\n",
      "Filterd by pvalue:   501 15\n"
     ]
    }
   ],
   "source": [
    "eur_bmi_snps = get_snps(eur_bmi)\n",
    "afr_bmi_snps = get_snps(afr_bmi)\n",
    "print(\"Total SNPs:         \", len(eur_bmi_snps), len(afr_bmi_snps))\n",
    "eur_bmi_snps_collapsed = q.collapse_dataframe(eur_bmi_snps)\n",
    "afr_bmi_snps_collapsed = q.collapse_dataframe(afr_bmi_snps)\n",
    "eur_bmi_snps_filtered  = q.collapse_dataframe(eur_bmi_snps, pvalue_filter=5e-8)\n",
    "afr_bmi_snps_filtered  = q.collapse_dataframe(afr_bmi_snps, pvalue_filter=5e-8)\n",
    "print(\"Collapsed dataframe:\", len(eur_bmi_snps_collapsed), len(afr_bmi_snps_collapsed))\n",
    "print(\"Filterd by pvalue:  \", len(eur_bmi_snps_filtered), len(afr_bmi_snps_filtered))"
   ]
  },
  {
   "cell_type": "markdown",
   "metadata": {},
   "source": [
    "Let's take a look at the pvalue info"
   ]
  },
  {
   "cell_type": "code",
   "execution_count": 13,
   "metadata": {
    "collapsed": false
   },
   "outputs": [
    {
     "data": {
      "text/plain": [
       "count     1.557810e+05\n",
       "mean      2.142772e-02\n",
       "std       1.545343e-02\n",
       "min      1.770000e-109\n",
       "25%       7.060000e-03\n",
       "50%       2.000000e-02\n",
       "75%       3.480000e-02\n",
       "max       5.000000e-02\n",
       "Name: pval, dtype: float64"
      ]
     },
     "execution_count": 13,
     "metadata": {},
     "output_type": "execute_result"
    }
   ],
   "source": [
    "eur_bmi_snps_collapsed.pval.describe()"
   ]
  },
  {
   "cell_type": "code",
   "execution_count": 14,
   "metadata": {
    "collapsed": false
   },
   "outputs": [
    {
     "data": {
      "text/plain": [
       "count    2.680000e+02\n",
       "mean     5.414924e-04\n",
       "std      1.592477e-03\n",
       "min      5.100000e-14\n",
       "25%      2.282500e-05\n",
       "50%      9.390000e-05\n",
       "75%      2.277250e-04\n",
       "max      2.000000e-02\n",
       "Name: pval, dtype: float64"
      ]
     },
     "execution_count": 14,
     "metadata": {},
     "output_type": "execute_result"
    }
   ],
   "source": [
    "afr_bmi_snps_collapsed.pval.describe()"
   ]
  },
  {
   "cell_type": "markdown",
   "metadata": {},
   "source": [
    "Now let's get the intersection of the two."
   ]
  },
  {
   "cell_type": "code",
   "execution_count": 15,
   "metadata": {
    "collapsed": false
   },
   "outputs": [
    {
     "name": "stdout",
     "output_type": "stream",
     "text": [
      "Series 1 len: 155781\n",
      "Series 2 len: 268\n",
      "Intersected df len: 147\n"
     ]
    }
   ],
   "source": [
    "eur_afr_bmi = q.intersect_overlapping_series(eur_bmi_snps_collapsed,\n",
    "                                             afr_bmi_snps_collapsed,\n",
    "                                             names=['eur', 'afr'], stats=True)"
   ]
  },
  {
   "cell_type": "markdown",
   "metadata": {},
   "source": [
    "It is easier to work with the minus log of the pvalues, so let's use numpy to do that."
   ]
  },
  {
   "cell_type": "code",
   "execution_count": 16,
   "metadata": {
    "collapsed": false,
    "scrolled": true
   },
   "outputs": [
    {
     "data": {
      "text/html": [
       "<div>\n",
       "<table border=\"1\" class=\"dataframe\">\n",
       "  <thead>\n",
       "    <tr style=\"text-align: right;\">\n",
       "      <th></th>\n",
       "      <th>eur</th>\n",
       "      <th>afr</th>\n",
       "    </tr>\n",
       "  </thead>\n",
       "  <tbody>\n",
       "    <tr>\n",
       "      <th>10:129247480</th>\n",
       "      <td>2.262807</td>\n",
       "      <td>2.795880</td>\n",
       "    </tr>\n",
       "    <tr>\n",
       "      <th>11:27725986</th>\n",
       "      <td>4.838632</td>\n",
       "      <td>4.037631</td>\n",
       "    </tr>\n",
       "    <tr>\n",
       "      <th>12:42304789</th>\n",
       "      <td>2.072117</td>\n",
       "      <td>2.920819</td>\n",
       "    </tr>\n",
       "    <tr>\n",
       "      <th>12:50247468</th>\n",
       "      <td>6.337242</td>\n",
       "      <td>5.359519</td>\n",
       "    </tr>\n",
       "    <tr>\n",
       "      <th>14:79936964</th>\n",
       "      <td>3.721246</td>\n",
       "      <td>4.454693</td>\n",
       "    </tr>\n",
       "    <tr>\n",
       "      <th>14:79942647</th>\n",
       "      <td>6.570248</td>\n",
       "      <td>4.218245</td>\n",
       "    </tr>\n",
       "    <tr>\n",
       "      <th>14:79969194</th>\n",
       "      <td>3.581699</td>\n",
       "      <td>3.662142</td>\n",
       "    </tr>\n",
       "    <tr>\n",
       "      <th>15:68086838</th>\n",
       "      <td>5.015331</td>\n",
       "      <td>3.356547</td>\n",
       "    </tr>\n",
       "    <tr>\n",
       "      <th>16:53800954</th>\n",
       "      <td>23.585027</td>\n",
       "      <td>4.056505</td>\n",
       "    </tr>\n",
       "    <tr>\n",
       "      <th>16:53803574</th>\n",
       "      <td>14.074688</td>\n",
       "      <td>6.570248</td>\n",
       "    </tr>\n",
       "    <tr>\n",
       "      <th>16:53818460</th>\n",
       "      <td>13.841638</td>\n",
       "      <td>7.115205</td>\n",
       "    </tr>\n",
       "    <tr>\n",
       "      <th>16:53825488</th>\n",
       "      <td>13.557520</td>\n",
       "      <td>4.946922</td>\n",
       "    </tr>\n",
       "    <tr>\n",
       "      <th>16:53827179</th>\n",
       "      <td>13.508638</td>\n",
       "      <td>5.460924</td>\n",
       "    </tr>\n",
       "    <tr>\n",
       "      <th>16:53828066</th>\n",
       "      <td>13.718967</td>\n",
       "      <td>9.978811</td>\n",
       "    </tr>\n",
       "    <tr>\n",
       "      <th>16:53842908</th>\n",
       "      <td>12.219683</td>\n",
       "      <td>7.903090</td>\n",
       "    </tr>\n",
       "    <tr>\n",
       "      <th>16:53845487</th>\n",
       "      <td>11.920819</td>\n",
       "      <td>7.108463</td>\n",
       "    </tr>\n",
       "    <tr>\n",
       "      <th>18:57766512</th>\n",
       "      <td>5.282329</td>\n",
       "      <td>9.000000</td>\n",
       "    </tr>\n",
       "    <tr>\n",
       "      <th>18:57829135</th>\n",
       "      <td>6.359519</td>\n",
       "      <td>10.528708</td>\n",
       "    </tr>\n",
       "    <tr>\n",
       "      <th>18:57851097</th>\n",
       "      <td>4.722735</td>\n",
       "      <td>1.698970</td>\n",
       "    </tr>\n",
       "    <tr>\n",
       "      <th>18:57858802</th>\n",
       "      <td>7.292430</td>\n",
       "      <td>3.801893</td>\n",
       "    </tr>\n",
       "    <tr>\n",
       "      <th>18:57876227</th>\n",
       "      <td>6.821023</td>\n",
       "      <td>5.131944</td>\n",
       "    </tr>\n",
       "    <tr>\n",
       "      <th>18:57903604</th>\n",
       "      <td>7.478862</td>\n",
       "      <td>6.101275</td>\n",
       "    </tr>\n",
       "    <tr>\n",
       "      <th>18:57907311</th>\n",
       "      <td>7.443697</td>\n",
       "      <td>6.119186</td>\n",
       "    </tr>\n",
       "    <tr>\n",
       "      <th>19:46202172</th>\n",
       "      <td>3.522879</td>\n",
       "      <td>4.995679</td>\n",
       "    </tr>\n",
       "    <tr>\n",
       "      <th>1:177885488</th>\n",
       "      <td>6.163676</td>\n",
       "      <td>5.565431</td>\n",
       "    </tr>\n",
       "    <tr>\n",
       "      <th>1:177885762</th>\n",
       "      <td>4.818156</td>\n",
       "      <td>6.341989</td>\n",
       "    </tr>\n",
       "    <tr>\n",
       "      <th>1:177887117</th>\n",
       "      <td>4.028724</td>\n",
       "      <td>4.407823</td>\n",
       "    </tr>\n",
       "    <tr>\n",
       "      <th>1:177889480</th>\n",
       "      <td>6.744848</td>\n",
       "      <td>12.698970</td>\n",
       "    </tr>\n",
       "    <tr>\n",
       "      <th>1:177894287</th>\n",
       "      <td>4.645892</td>\n",
       "      <td>9.617983</td>\n",
       "    </tr>\n",
       "    <tr>\n",
       "      <th>1:177899121</th>\n",
       "      <td>4.642065</td>\n",
       "      <td>5.879426</td>\n",
       "    </tr>\n",
       "    <tr>\n",
       "      <th>...</th>\n",
       "      <td>...</td>\n",
       "      <td>...</td>\n",
       "    </tr>\n",
       "    <tr>\n",
       "      <th>5:153513403</th>\n",
       "      <td>1.563837</td>\n",
       "      <td>4.440093</td>\n",
       "    </tr>\n",
       "    <tr>\n",
       "      <th>5:153518766</th>\n",
       "      <td>4.889410</td>\n",
       "      <td>3.154902</td>\n",
       "    </tr>\n",
       "    <tr>\n",
       "      <th>5:153537893</th>\n",
       "      <td>4.793174</td>\n",
       "      <td>6.231362</td>\n",
       "    </tr>\n",
       "    <tr>\n",
       "      <th>5:153538241</th>\n",
       "      <td>4.752027</td>\n",
       "      <td>7.061480</td>\n",
       "    </tr>\n",
       "    <tr>\n",
       "      <th>5:153540025</th>\n",
       "      <td>4.777284</td>\n",
       "      <td>7.061480</td>\n",
       "    </tr>\n",
       "    <tr>\n",
       "      <th>5:153543466</th>\n",
       "      <td>4.821023</td>\n",
       "      <td>13.292430</td>\n",
       "    </tr>\n",
       "    <tr>\n",
       "      <th>5:153545698</th>\n",
       "      <td>4.835647</td>\n",
       "      <td>8.095826</td>\n",
       "    </tr>\n",
       "    <tr>\n",
       "      <th>5:153548206</th>\n",
       "      <td>4.739929</td>\n",
       "      <td>8.427128</td>\n",
       "    </tr>\n",
       "    <tr>\n",
       "      <th>5:153555164</th>\n",
       "      <td>3.793174</td>\n",
       "      <td>6.212540</td>\n",
       "    </tr>\n",
       "    <tr>\n",
       "      <th>5:153557590</th>\n",
       "      <td>4.228413</td>\n",
       "      <td>6.129596</td>\n",
       "    </tr>\n",
       "    <tr>\n",
       "      <th>5:153569929</th>\n",
       "      <td>1.640165</td>\n",
       "      <td>3.983384</td>\n",
       "    </tr>\n",
       "    <tr>\n",
       "      <th>5:153573579</th>\n",
       "      <td>1.623423</td>\n",
       "      <td>4.006123</td>\n",
       "    </tr>\n",
       "    <tr>\n",
       "      <th>5:153575345</th>\n",
       "      <td>1.634512</td>\n",
       "      <td>3.935168</td>\n",
       "    </tr>\n",
       "    <tr>\n",
       "      <th>5:95850250</th>\n",
       "      <td>2.801343</td>\n",
       "      <td>3.048177</td>\n",
       "    </tr>\n",
       "    <tr>\n",
       "      <th>5:95869427</th>\n",
       "      <td>1.636388</td>\n",
       "      <td>3.904831</td>\n",
       "    </tr>\n",
       "    <tr>\n",
       "      <th>6:160368209</th>\n",
       "      <td>1.310691</td>\n",
       "      <td>2.494850</td>\n",
       "    </tr>\n",
       "    <tr>\n",
       "      <th>6:163598076</th>\n",
       "      <td>1.377786</td>\n",
       "      <td>3.625252</td>\n",
       "    </tr>\n",
       "    <tr>\n",
       "      <th>6:34268684</th>\n",
       "      <td>2.739929</td>\n",
       "      <td>2.847712</td>\n",
       "    </tr>\n",
       "    <tr>\n",
       "      <th>6:50798526</th>\n",
       "      <td>4.899629</td>\n",
       "      <td>4.232102</td>\n",
       "    </tr>\n",
       "    <tr>\n",
       "      <th>6:50803050</th>\n",
       "      <td>4.737549</td>\n",
       "      <td>4.175224</td>\n",
       "    </tr>\n",
       "    <tr>\n",
       "      <th>6:97374850</th>\n",
       "      <td>1.359519</td>\n",
       "      <td>3.935542</td>\n",
       "    </tr>\n",
       "    <tr>\n",
       "      <th>6:97411894</th>\n",
       "      <td>1.812479</td>\n",
       "      <td>2.630042</td>\n",
       "    </tr>\n",
       "    <tr>\n",
       "      <th>6:97422930</th>\n",
       "      <td>1.809668</td>\n",
       "      <td>2.648204</td>\n",
       "    </tr>\n",
       "    <tr>\n",
       "      <th>6:97423683</th>\n",
       "      <td>1.730487</td>\n",
       "      <td>2.093881</td>\n",
       "    </tr>\n",
       "    <tr>\n",
       "      <th>7:25950545</th>\n",
       "      <td>4.681937</td>\n",
       "      <td>9.920819</td>\n",
       "    </tr>\n",
       "    <tr>\n",
       "      <th>7:25953720</th>\n",
       "      <td>1.443697</td>\n",
       "      <td>3.182633</td>\n",
       "    </tr>\n",
       "    <tr>\n",
       "      <th>7:25955324</th>\n",
       "      <td>1.432974</td>\n",
       "      <td>3.281664</td>\n",
       "    </tr>\n",
       "    <tr>\n",
       "      <th>8:10529962</th>\n",
       "      <td>1.835647</td>\n",
       "      <td>4.397940</td>\n",
       "    </tr>\n",
       "    <tr>\n",
       "      <th>9:28414339</th>\n",
       "      <td>2.946922</td>\n",
       "      <td>3.525784</td>\n",
       "    </tr>\n",
       "    <tr>\n",
       "      <th>9:37014642</th>\n",
       "      <td>1.459671</td>\n",
       "      <td>3.301030</td>\n",
       "    </tr>\n",
       "  </tbody>\n",
       "</table>\n",
       "<p>147 rows × 2 columns</p>\n",
       "</div>"
      ],
      "text/plain": [
       "                    eur        afr\n",
       "10:129247480   2.262807   2.795880\n",
       "11:27725986    4.838632   4.037631\n",
       "12:42304789    2.072117   2.920819\n",
       "12:50247468    6.337242   5.359519\n",
       "14:79936964    3.721246   4.454693\n",
       "14:79942647    6.570248   4.218245\n",
       "14:79969194    3.581699   3.662142\n",
       "15:68086838    5.015331   3.356547\n",
       "16:53800954   23.585027   4.056505\n",
       "16:53803574   14.074688   6.570248\n",
       "16:53818460   13.841638   7.115205\n",
       "16:53825488   13.557520   4.946922\n",
       "16:53827179   13.508638   5.460924\n",
       "16:53828066   13.718967   9.978811\n",
       "16:53842908   12.219683   7.903090\n",
       "16:53845487   11.920819   7.108463\n",
       "18:57766512    5.282329   9.000000\n",
       "18:57829135    6.359519  10.528708\n",
       "18:57851097    4.722735   1.698970\n",
       "18:57858802    7.292430   3.801893\n",
       "18:57876227    6.821023   5.131944\n",
       "18:57903604    7.478862   6.101275\n",
       "18:57907311    7.443697   6.119186\n",
       "19:46202172    3.522879   4.995679\n",
       "1:177885488    6.163676   5.565431\n",
       "1:177885762    4.818156   6.341989\n",
       "1:177887117    4.028724   4.407823\n",
       "1:177889480    6.744848  12.698970\n",
       "1:177894287    4.645892   9.617983\n",
       "1:177899121    4.642065   5.879426\n",
       "...                 ...        ...\n",
       "5:153513403    1.563837   4.440093\n",
       "5:153518766    4.889410   3.154902\n",
       "5:153537893    4.793174   6.231362\n",
       "5:153538241    4.752027   7.061480\n",
       "5:153540025    4.777284   7.061480\n",
       "5:153543466    4.821023  13.292430\n",
       "5:153545698    4.835647   8.095826\n",
       "5:153548206    4.739929   8.427128\n",
       "5:153555164    3.793174   6.212540\n",
       "5:153557590    4.228413   6.129596\n",
       "5:153569929    1.640165   3.983384\n",
       "5:153573579    1.623423   4.006123\n",
       "5:153575345    1.634512   3.935168\n",
       "5:95850250     2.801343   3.048177\n",
       "5:95869427     1.636388   3.904831\n",
       "6:160368209    1.310691   2.494850\n",
       "6:163598076    1.377786   3.625252\n",
       "6:34268684     2.739929   2.847712\n",
       "6:50798526     4.899629   4.232102\n",
       "6:50803050     4.737549   4.175224\n",
       "6:97374850     1.359519   3.935542\n",
       "6:97411894     1.812479   2.630042\n",
       "6:97422930     1.809668   2.648204\n",
       "6:97423683     1.730487   2.093881\n",
       "7:25950545     4.681937   9.920819\n",
       "7:25953720     1.443697   3.182633\n",
       "7:25955324     1.432974   3.281664\n",
       "8:10529962     1.835647   4.397940\n",
       "9:28414339     2.946922   3.525784\n",
       "9:37014642     1.459671   3.301030\n",
       "\n",
       "[147 rows x 2 columns]"
      ]
     },
     "execution_count": 16,
     "metadata": {},
     "output_type": "execute_result"
    }
   ],
   "source": [
    "ea_bmi_minus_log = -np.log10(eur_afr_bmi)\n",
    "ea_bmi_minus_log"
   ]
  },
  {
   "cell_type": "markdown",
   "metadata": {},
   "source": [
    "## Plot"
   ]
  },
  {
   "cell_type": "code",
   "execution_count": 19,
   "metadata": {
    "collapsed": false,
    "scrolled": false
   },
   "outputs": [
    {
     "data": {
      "image/png": "[encoded data removed]",
      "text/plain": [
       "<matplotlib.figure.Figure at 0x11a59fcf8>"
      ]
     },
     "metadata": {},
     "output_type": "display_data"
    }
   ],
   "source": [
    "df = ea_bmi_minus_log\n",
    "title = 'European v African BMI SNPs'\n",
    "xlabel = 'EUR | -log10 pval'\n",
    "ylabel = 'AFR | -log10 pval'\n",
    "\n",
    "lmax = df.max().max() + 2\n",
    "\n",
    "# Matplotlib\n",
    "f, a = plt.subplots(figsize=(10,10))\n",
    "df.plot(x='eur', y='afr', ax=a, kind='scatter')\n",
    "a.set_title(title)\n",
    "a.set_xlabel(xlabel)\n",
    "a.set_ylabel(ylabel)\n",
    "a.set_xlim(0, lmax)\n",
    "a.set_ylim(0, lmax)\n",
    "f.savefig('eur_afr_bmi_snps.pdf')\n",
    "plt.grid()\n",
    "plt.show()"
   ]
  },
  {
   "cell_type": "code",
   "execution_count": 18,
   "metadata": {
    "collapsed": false
   },
   "outputs": [
    {
     "data": {
      "text/html": [
       "<iframe id=\"igraph\" scrolling=\"no\" style=\"border:none;\" seamless=\"seamless\" src=\"https://plot.ly/~mike.dacre/92.embed\" height=\"800px\" width=\"800px\"></iframe>"
      ],
      "text/plain": [
       "<plotly.tools.PlotlyDisplay object>"
      ]
     },
     "execution_count": 18,
     "metadata": {},
     "output_type": "execute_result"
    }
   ],
   "source": [
    "# Plotly\n",
    "data = go.Data([go.Scatter(\n",
    "            x=df.eur,\n",
    "            y=df.afr,\n",
    "            mode='markers',\n",
    "            text=df.index\n",
    "        )])\n",
    "layout = go.Layout(\n",
    "    title = title,\n",
    "    hovermode = 'closest',\n",
    "    autosize = False,\n",
    "    height = 800,\n",
    "    width = 800,\n",
    "    xaxis = dict(\n",
    "        title = xlabel,\n",
    "        range = [0, lmax],\n",
    "        ticklen = 5,\n",
    "        zeroline = True,\n",
    "        gridwidth = 2,\n",
    "    ),\n",
    "    yaxis = dict(\n",
    "        title = ylabel,\n",
    "        range = [0, lmax],\n",
    "        ticklen = 5,\n",
    "        zeroline = True,\n",
    "        gridwidth = 2,\n",
    "    ),\n",
    "    showlegend= False\n",
    ")\n",
    "fig = go.Figure(data=data, layout=layout)\n",
    "py.iplot(fig, filename='eur_v_afr_bmi', sharing='public')"
   ]
  }
 ],
 "metadata": {
  "kernelspec": {
   "display_name": "anaconda",
   "language": "python",
   "name": "anaconda3"
  },
  "language_info": {
   "codemirror_mode": {
    "name": "ipython",
    "version": 3
   },
   "file_extension": ".py",
   "mimetype": "text/x-python",
   "name": "python",
   "nbconvert_exporter": "python",
   "pygments_lexer": "ipython3",
   "version": "3.5.2"
  }
 },
 "nbformat": 4,
 "nbformat_minor": 1
}
